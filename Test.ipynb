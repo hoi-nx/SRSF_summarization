{
 "cells": [
  {
   "cell_type": "code",
   "execution_count": 45,
   "metadata": {},
   "outputs": [],
   "source": [
    "import torch\n",
    "import torch.nn as nn\n",
    "import numpy as np\n",
    "import argparse,random,logging,numpy,os\n",
    "import json\n",
    "from torch.autograd import Variable\n",
    "from torch.utils.data import DataLoader\n",
    "from torch.nn.utils import clip_grad_norm\n",
    "from time import time\n",
    "from tqdm import tqdm\n",
    "import models"
   ]
  },
  {
   "cell_type": "code",
   "execution_count": 46,
   "metadata": {},
   "outputs": [],
   "source": [
    "logging.basicConfig(level=logging.INFO, format='%(asctime)s [INFO] %(message)s')\n",
    "parser = argparse.ArgumentParser(description='extractive summary')\n",
    "# model\n",
    "parser.add_argument('-save_dir',type=str,default='checkpoints/')\n",
    "parser.add_argument('-embed_dim',type=int,default=100)\n",
    "parser.add_argument('-embed_num',type=int,default=100)\n",
    "parser.add_argument('-pos_dim',type=int,default=50)\n",
    "parser.add_argument('-pos_num',type=int,default=100)\n",
    "parser.add_argument('-seg_num',type=int,default=10)\n",
    "parser.add_argument('-kernel_num',type=int,default=100)\n",
    "parser.add_argument('-kernel_sizes',type=str,default='3,4,5')\n",
    "parser.add_argument('-model',type=str,default='RNN_RNN')\n",
    "parser.add_argument('-hidden_size',type=int,default=200)\n",
    "# train\n",
    "parser.add_argument('-lr',type=float,default=1e-3)\n",
    "parser.add_argument('-batch_size',type=int,default=32)\n",
    "parser.add_argument('-epochs',type=int,default=20)\n",
    "parser.add_argument('-seed',type=int,default=1)\n",
    "parser.add_argument('-train_dir',type=str,default='data/train.json')\n",
    "parser.add_argument('-val_dir',type=str,default='data/val.json')\n",
    "parser.add_argument('-embedding',type=str,default='data/embedding.npz')\n",
    "parser.add_argument('-word2id',type=str,default='data/word2id.json')\n",
    "parser.add_argument('-report_every',type=int,default=5)\n",
    "parser.add_argument('-seq_trunc',type=int,default=50)\n",
    "parser.add_argument('-max_norm',type=float,default=1.0)\n",
    "# test\n",
    "parser.add_argument('-load_dir',type=str,default='checkpoints/RNN_RNN_seed_1.pt')\n",
    "parser.add_argument('-test_dir',type=str,default='data/test.json')\n",
    "parser.add_argument('-ref',type=str,default='outputs/ref')\n",
    "parser.add_argument('-origin',type=str,default='outputs/origin')\n",
    "parser.add_argument('-lables',type=str,default='outputs/lables')\n",
    "parser.add_argument('-hyp',type=str,default='outputs/hyp')\n",
    "parser.add_argument('-pre',type=str,default='outputs/predict')\n",
    "parser.add_argument('-filename',type=str,default='x.txt') # TextFile to be summarized\n",
    "parser.add_argument('-topk',type=int,default=15)\n",
    "# device\n",
    "parser.add_argument('-device',type=int)\n",
    "# option\n",
    "parser.add_argument('-test',action='store_true')\n",
    "parser.add_argument('-train',action='store_true')\n",
    "parser.add_argument('-debug',action='store_true')\n",
    "parser.add_argument('-predict',action='store_true')\n",
    "parser.add_argument('-predict_all',action='store_true') # predict all\n",
    "args = parser.parse_args()"
   ]
  },
  {
   "cell_type": "code",
   "execution_count": 47,
   "metadata": {},
   "outputs": [],
   "source": [
    "embed = torch.Tensor(np.load(\"data/embedding.npz\")['embedding'])"
   ]
  },
  {
   "cell_type": "code",
   "execution_count": 48,
   "metadata": {},
   "outputs": [
    {
     "data": {
      "text/plain": [
       "torch.Size([153824, 100])"
      ]
     },
     "execution_count": 48,
     "metadata": {},
     "output_type": "execute_result"
    }
   ],
   "source": [
    "embed.shape"
   ]
  },
  {
   "cell_type": "code",
   "execution_count": 49,
   "metadata": {},
   "outputs": [],
   "source": [
    "import utils"
   ]
  },
  {
   "cell_type": "code",
   "execution_count": 50,
   "metadata": {},
   "outputs": [
    {
     "name": "stdout",
     "output_type": "stream",
     "text": [
      "<utils.Vocab.Vocab object at 0x1c2703908>\n"
     ]
    }
   ],
   "source": [
    "with open(\"data/word2id.json\") as f:\n",
    "    word2id = json.load(f)\n",
    "    vocab = utils.Vocab(embed, word2id)\n",
    "    print(vocab)"
   ]
  },
  {
   "cell_type": "code",
   "execution_count": 51,
   "metadata": {},
   "outputs": [],
   "source": [
    "with open(args.train_dir) as f:\n",
    "    examples = [json.loads(line) for line in f]\n",
    "    train_dataset = utils.Dataset(examples)"
   ]
  },
  {
   "cell_type": "code",
   "execution_count": 54,
   "metadata": {},
   "outputs": [],
   "source": [
    "with open(args.val_dir) as f:\n",
    "    examples = [json.loads(line) for line in f]\n",
    "    val_dataset = utils.Dataset(examples)"
   ]
  },
  {
   "cell_type": "code",
   "execution_count": 55,
   "metadata": {},
   "outputs": [
    {
     "data": {
      "text/plain": [
       "153824"
      ]
     },
     "execution_count": 55,
     "metadata": {},
     "output_type": "execute_result"
    }
   ],
   "source": [
    "args.embed_num =embed.size(0)\n",
    "args.embed_num"
   ]
  },
  {
   "cell_type": "code",
   "execution_count": 56,
   "metadata": {},
   "outputs": [
    {
     "data": {
      "text/plain": [
       "100"
      ]
     },
     "execution_count": 56,
     "metadata": {},
     "output_type": "execute_result"
    }
   ],
   "source": [
    "args.embed_dim=embed.size(1)\n",
    "args.embed_dim"
   ]
  },
  {
   "cell_type": "code",
   "execution_count": 57,
   "metadata": {},
   "outputs": [
    {
     "data": {
      "text/plain": [
       "[3, 4, 5]"
      ]
     },
     "execution_count": 57,
     "metadata": {},
     "output_type": "execute_result"
    }
   ],
   "source": [
    "args.kernel_sizes=[int(ks) for ks in args.kernel_sizes.split(',')]\n",
    "args.kernel_sizes"
   ]
  },
  {
   "cell_type": "code",
   "execution_count": 58,
   "metadata": {},
   "outputs": [],
   "source": [
    "net = getattr(models,args.model)(args,embed)"
   ]
  },
  {
   "cell_type": "code",
   "execution_count": 59,
   "metadata": {},
   "outputs": [
    {
     "data": {
      "text/plain": [
       "RNN_RNN(\n",
       "  (abs_pos_embed): Embedding(100, 50)\n",
       "  (rel_pos_embed): Embedding(10, 50)\n",
       "  (embed): Embedding(153824, 100, padding_idx=0)\n",
       "  (word_RNN): GRU(100, 200, batch_first=True, bidirectional=True)\n",
       "  (sent_RNN): GRU(400, 200, batch_first=True, bidirectional=True)\n",
       "  (fc): Linear(in_features=400, out_features=400, bias=True)\n",
       "  (content): Linear(in_features=400, out_features=1, bias=False)\n",
       "  (salience): Bilinear(in1_features=400, in2_features=400, out_features=1, bias=False)\n",
       "  (novelty): Bilinear(in1_features=400, in2_features=400, out_features=1, bias=False)\n",
       "  (abs_pos): Linear(in_features=50, out_features=1, bias=False)\n",
       "  (rel_pos): Linear(in_features=50, out_features=1, bias=False)\n",
       ")"
      ]
     },
     "execution_count": 59,
     "metadata": {},
     "output_type": "execute_result"
    }
   ],
   "source": [
    "net"
   ]
  },
  {
   "cell_type": "code",
   "execution_count": 60,
   "metadata": {},
   "outputs": [],
   "source": [
    "train_iter = DataLoader(dataset=train_dataset,\n",
    "            batch_size=args.batch_size,\n",
    "            shuffle=True)\n",
    "val_iter = DataLoader(dataset=val_dataset,\n",
    "            batch_size=args.batch_size,\n",
    "            shuffle=False)"
   ]
  },
  {
   "cell_type": "code",
   "execution_count": 62,
   "metadata": {},
   "outputs": [
    {
     "data": {
      "text/plain": [
       "BCELoss()"
      ]
     },
     "execution_count": 62,
     "metadata": {},
     "output_type": "execute_result"
    }
   ],
   "source": [
    "criterion = nn.BCELoss()\n",
    "criterion"
   ]
  },
  {
   "cell_type": "code",
   "execution_count": 63,
   "metadata": {},
   "outputs": [
    {
     "name": "stdout",
     "output_type": "stream",
     "text": [
      "#Params: 17.0M\n"
     ]
    }
   ],
   "source": [
    "params = sum(p.numel() for p in list(net.parameters())) / 1e6\n",
    "print('#Params: %.1fM' % (params))"
   ]
  },
  {
   "cell_type": "code",
   "execution_count": 65,
   "metadata": {},
   "outputs": [],
   "source": [
    "min_loss = float('inf')\n",
    "optimizer = torch.optim.Adam(net.parameters(),lr=args.lr)"
   ]
  },
  {
   "cell_type": "code",
   "execution_count": 44,
   "metadata": {},
   "outputs": [
    {
     "ename": "NameError",
     "evalue": "name 'origins' is not defined",
     "output_type": "error",
     "traceback": [
      "\u001b[0;31m---------------------------------------------------------------------------\u001b[0m",
      "\u001b[0;31mNameError\u001b[0m                                 Traceback (most recent call last)",
      "\u001b[0;32m<ipython-input-44-abca6f5a4426>\u001b[0m in \u001b[0;36m<module>\u001b[0;34m\u001b[0m\n\u001b[1;32m      1\u001b[0m \u001b[0;31m#Get reference summary by lable\u001b[0m\u001b[0;34m\u001b[0m\u001b[0;34m\u001b[0m\u001b[0m\n\u001b[0;32m----> 2\u001b[0;31m \u001b[0;32mfor\u001b[0m \u001b[0mi\u001b[0m \u001b[0;32min\u001b[0m \u001b[0mrange\u001b[0m\u001b[0;34m(\u001b[0m\u001b[0mlen\u001b[0m\u001b[0;34m(\u001b[0m\u001b[0morigins\u001b[0m\u001b[0;34m)\u001b[0m\u001b[0;34m)\u001b[0m\u001b[0;34m:\u001b[0m\u001b[0;34m\u001b[0m\u001b[0m\n\u001b[0m\u001b[1;32m      3\u001b[0m     \u001b[0mref\u001b[0m\u001b[0;34m=\u001b[0m\u001b[0;34m[\u001b[0m\u001b[0;34m]\u001b[0m\u001b[0;34m\u001b[0m\u001b[0m\n\u001b[1;32m      4\u001b[0m     \u001b[0mname_file\u001b[0m\u001b[0;34m=\u001b[0m \u001b[0morigins\u001b[0m\u001b[0;34m[\u001b[0m\u001b[0mi\u001b[0m\u001b[0;34m]\u001b[0m\u001b[0;34m.\u001b[0m\u001b[0msplit\u001b[0m\u001b[0;34m(\u001b[0m\u001b[0;34m\"/\"\u001b[0m\u001b[0;34m)\u001b[0m\u001b[0;34m[\u001b[0m\u001b[0;36m2\u001b[0m\u001b[0;34m]\u001b[0m\u001b[0;34m\u001b[0m\u001b[0m\n\u001b[1;32m      5\u001b[0m     \u001b[0mori\u001b[0m \u001b[0;34m=\u001b[0m \u001b[0mreadFile\u001b[0m\u001b[0;34m(\u001b[0m\u001b[0morigins\u001b[0m\u001b[0;34m[\u001b[0m\u001b[0mi\u001b[0m\u001b[0;34m]\u001b[0m\u001b[0;34m)\u001b[0m\u001b[0;34m\u001b[0m\u001b[0m\n",
      "\u001b[0;31mNameError\u001b[0m: name 'origins' is not defined"
     ]
    }
   ],
   "source": [
    "#Get reference summary by lable\n",
    "for i in range(len(origins)):\n",
    "    ref=[]\n",
    "    name_file= origins[i].split(\"/\")[2]\n",
    "    ori = readFile(origins[i])\n",
    "    lable = readFile(lables[i])\n",
    "    sentent=  ori.split(\"\\n\")\n",
    "    list_lables= lable.split(\"\\n\")\n",
    "    for i in range(len(sentent)):\n",
    "        if(list_lables[i] == '1'):\n",
    "            ref.append(sentent[i])\n",
    "    with open(\"outputs/refer/\"+name_file, 'w') as f:\n",
    "        for item in ref:\n",
    "            f.write(\"%s\\n\" % item)\n",
    "    \n",
    "    \n",
    "    "
   ]
  },
  {
   "cell_type": "code",
   "execution_count": 48,
   "metadata": {},
   "outputs": [],
   "source": [
    "from __future__ import print_function\n",
    "import torch"
   ]
  },
  {
   "cell_type": "code",
   "execution_count": 3,
   "metadata": {},
   "outputs": [
    {
     "name": "stdout",
     "output_type": "stream",
     "text": [
      "tensor([-0.4390, -1.3339, -0.6605])\n"
     ]
    }
   ],
   "source": [
    "x = torch.randn(3)\n",
    "print(x)"
   ]
  },
  {
   "cell_type": "code",
   "execution_count": 4,
   "metadata": {},
   "outputs": [],
   "source": [
    "y = torch.randn(3)"
   ]
  },
  {
   "cell_type": "code",
   "execution_count": 5,
   "metadata": {},
   "outputs": [
    {
     "data": {
      "text/plain": [
       "torch.Size([3])"
      ]
     },
     "execution_count": 5,
     "metadata": {},
     "output_type": "execute_result"
    }
   ],
   "source": [
    "y.size()"
   ]
  },
  {
   "cell_type": "code",
   "execution_count": 6,
   "metadata": {},
   "outputs": [],
   "source": [
    "import torch.nn as nn"
   ]
  },
  {
   "cell_type": "code",
   "execution_count": 7,
   "metadata": {},
   "outputs": [],
   "source": [
    "cos = nn.CosineSimilarity(dim=0)"
   ]
  },
  {
   "cell_type": "code",
   "execution_count": 8,
   "metadata": {},
   "outputs": [
    {
     "name": "stdout",
     "output_type": "stream",
     "text": [
      "tensor(-0.3479)\n"
     ]
    }
   ],
   "source": [
    "print (cos(x,y))"
   ]
  },
  {
   "cell_type": "code",
   "execution_count": 9,
   "metadata": {},
   "outputs": [],
   "source": [
    "z = torch.randn(400)"
   ]
  },
  {
   "cell_type": "code",
   "execution_count": 10,
   "metadata": {},
   "outputs": [],
   "source": [
    "z= z.view(1,-1)"
   ]
  },
  {
   "cell_type": "code",
   "execution_count": 11,
   "metadata": {},
   "outputs": [
    {
     "data": {
      "text/plain": [
       "tensor([[-0.7233,  2.3138,  3.0266, -2.6170,  2.1044,  3.6435,  2.8276, -1.4576,\n",
       "          0.1917,  2.7865, -0.9188, -1.4830, -0.9808,  1.4554,  1.6691, -0.6281,\n",
       "          0.8911,  2.4359, -1.6552,  1.9109,  0.6381, -2.4139, -1.1850, -0.6237,\n",
       "          0.6718,  0.2315,  0.4460, -3.3131,  0.0385,  0.8599,  0.7817, -1.4436,\n",
       "         -0.5166,  0.1615, -1.2504, -0.3631, -0.7480,  1.6206,  1.8567,  0.6369,\n",
       "         -1.6678, -0.6702,  1.1897,  1.9984,  0.0361,  2.3814, -1.0759,  2.9297,\n",
       "          2.3735,  0.4552, -0.7786, -2.9721,  3.2385, -2.2133,  1.4469, -0.1890,\n",
       "         -1.5967, -2.0535, -0.3216, -4.4474,  1.7736,  0.6548, -1.4450, -1.9984,\n",
       "         -0.1543,  0.6419,  3.2017, -1.3252,  3.4700, -2.8916,  1.5636,  2.4838,\n",
       "          3.3101,  0.5045,  1.9046,  0.5430, -2.4051,  0.7972, -1.5550,  5.6442,\n",
       "          3.3473,  0.7052, -3.3750,  3.3435, -2.9889,  2.1393, -0.2408,  1.3990,\n",
       "         -0.0066,  3.3057, -1.8161,  0.7046,  2.2865, -1.2843, -2.3651,  1.9517,\n",
       "          2.6358,  0.8988,  3.5912, -2.1982, -0.9283,  0.2917,  1.0744, -1.2777,\n",
       "         -1.7121,  1.6137, -1.6151, -2.9186, -1.7715,  0.0535,  3.8285,  0.2192,\n",
       "         -2.7835,  0.8926,  2.2271, -1.0670,  0.0580,  2.0093,  1.2102,  2.5421,\n",
       "         -1.6800, -1.0840, -0.5222, -2.2703, -0.8523, -0.9389,  0.4529,  2.0920,\n",
       "          1.9653,  2.4902, -0.6028, -1.7399, -0.5725, -1.1264, -2.5211,  1.2862,\n",
       "          0.7224, -1.1720, -1.6566, -2.2709,  3.2258,  1.5482, -1.4790,  0.5386,\n",
       "         -1.7286, -4.5050,  2.5053,  1.0187, -2.2740, -3.6016, -1.4339,  3.0616,\n",
       "         -2.1240, -0.5874,  1.0611, -3.2039,  2.2321,  0.2512, -1.3788, -1.3847,\n",
       "          1.3269,  0.7596,  1.0080,  0.5858, -1.1748, -3.6514,  0.0829, -1.1509,\n",
       "         -2.0383, -2.3382, -4.7225, -5.9080,  2.9284,  1.8145,  0.5203, -0.8235,\n",
       "          1.8956, -0.3761, -1.6533, -1.3164, -0.4496, -1.2861, -0.1687, -3.4458,\n",
       "         -2.6231,  2.1180, -0.2942, -0.2295,  1.7014,  1.5933, -2.8998,  4.9102,\n",
       "          2.2286, -3.3314,  0.0918,  1.7769,  0.9043, -1.1199, -0.2176, -0.3269,\n",
       "         -0.2402, -2.0581, -1.9450, -1.2044, -0.6272, -1.3969, -0.3613,  2.5421,\n",
       "          0.7894,  1.9778,  0.3898,  0.5833,  1.2585,  0.7176,  0.3349,  1.8313,\n",
       "          2.5744,  0.8810,  1.3807, -0.6340, -0.3739, -1.9585, -1.0442, -2.0580,\n",
       "         -0.5273,  2.0866, -1.4092, -1.3185,  0.5404, -1.2764, -0.6278,  1.0060,\n",
       "         -3.6888, -1.2573, -1.3809,  0.1557,  0.2445, -1.2438,  0.5837, -0.1351,\n",
       "         -0.9350,  3.7063,  1.3085, -1.2164,  0.9023,  0.1367, -0.0862,  5.3710,\n",
       "         -0.3113,  0.8495, -2.7010,  1.6911, -0.1437, -2.3000, -0.5657,  1.7006,\n",
       "         -1.1685,  0.4903,  4.4085, -2.0554, -3.0710, -0.1950, -0.1716,  1.5072,\n",
       "         -0.2791, -2.0215,  0.5875,  1.5350, -0.7515, -0.8036, -0.9668, -0.5986,\n",
       "          0.5792, -1.4987, -4.8255,  1.9593,  0.7449,  4.5721,  1.5041, -1.2680,\n",
       "         -2.7604, -3.5408,  0.6086,  1.8837, -3.4889,  1.2301, -0.9160, -0.6452,\n",
       "          2.0855, -0.8980,  0.3843, -0.7322,  0.6023,  0.2057, -0.6747,  1.8070,\n",
       "          0.8967,  0.1180, -1.3266, -0.6451, -0.9102, -1.6173, -1.1932, -0.0160,\n",
       "         -0.6684,  1.0670,  0.6872, -2.3236,  0.1831, -1.9223,  4.5955, -0.9518,\n",
       "         -0.1067, -1.8173,  2.4601, -2.4671,  2.6309, -2.9417,  0.3793, -2.1044,\n",
       "          0.3299, -0.6497,  2.9439, -1.3167, -0.6663,  2.4853,  3.4320, -0.5129,\n",
       "          2.8548,  3.0993, -2.5320,  1.6160,  2.6346,  3.4812, -0.6481, -0.9023,\n",
       "          1.1201,  1.5009,  1.8717, -1.2639, -0.6131,  3.9114, -0.8854, -2.7965,\n",
       "         -4.8082, -3.2921,  1.1581, -0.1404, -2.7551, -1.3519,  1.2913, -0.5899,\n",
       "         -0.4191,  2.4500,  0.3900,  2.8921, -2.0897,  2.0775, -2.5655,  2.4137,\n",
       "          0.4168,  3.1994, -0.3628,  1.1415, -1.3716, -1.4313,  0.3648, -0.9348,\n",
       "         -1.3805, -0.8653, -3.3829, -2.0667, -2.6291, -0.2067,  2.6849,  1.3010,\n",
       "         -1.2193,  1.9174,  2.5987, -1.6893, -1.7863,  0.5979, -0.6386, -1.0789,\n",
       "         -1.3806,  0.7374, -1.4973, -1.0224,  0.1583,  1.5030,  0.5994, -1.8445,\n",
       "         -0.3248, -1.5245,  0.4772,  0.1257, -1.8234, -0.1568,  2.9126, -0.1186]])"
      ]
     },
     "execution_count": 11,
     "metadata": {},
     "output_type": "execute_result"
    }
   ],
   "source": [
    "2*z"
   ]
  },
  {
   "cell_type": "code",
   "execution_count": 47,
   "metadata": {},
   "outputs": [],
   "source": [
    "import torch.nn as nn"
   ]
  },
  {
   "cell_type": "code",
   "execution_count": 20,
   "metadata": {},
   "outputs": [],
   "source": [
    "sents_i = torch.randn(39,400)"
   ]
  },
  {
   "cell_type": "code",
   "execution_count": 21,
   "metadata": {},
   "outputs": [
    {
     "data": {
      "text/plain": [
       "tensor([[-1.7238,  1.1632, -1.3943,  ...,  0.7767, -0.2968,  0.4621],\n",
       "        [-0.7577,  0.4423, -0.3501,  ...,  0.3651,  0.3558,  1.3486],\n",
       "        [-0.5842, -1.3438, -1.6129,  ...,  0.9289, -0.0453,  0.2647],\n",
       "        ...,\n",
       "        [-1.1302,  1.3264, -0.3430,  ...,  0.5151,  1.1447, -1.0910],\n",
       "        [ 1.5417,  0.1207,  0.9869,  ...,  0.6856, -0.0847,  1.1233],\n",
       "        [ 0.4594,  1.2397,  0.2801,  ...,  0.9821,  0.0732,  0.0219]])"
      ]
     },
     "execution_count": 21,
     "metadata": {},
     "output_type": "execute_result"
    }
   ],
   "source": [
    "sents_i"
   ]
  },
  {
   "cell_type": "code",
   "execution_count": 31,
   "metadata": {},
   "outputs": [
    {
     "data": {
      "text/plain": [
       "tensor([-1.7238,  1.1632, -1.3943,  1.4063, -0.0736,  0.0145,  0.2460,  1.0829,\n",
       "         0.5990, -0.3173,  1.0523, -1.9302,  2.0329, -1.3161, -0.6439,  0.7299,\n",
       "        -1.0637,  0.6751, -1.0324,  1.1895, -0.8138,  0.4279, -0.1901,  1.0942,\n",
       "        -0.3916,  0.9965,  2.1399, -0.0207,  0.6334, -0.2476,  0.5143,  0.5443,\n",
       "        -0.0363, -0.2521,  0.2398,  0.8012, -0.2443,  2.0065,  0.0853,  1.2304,\n",
       "         2.4518,  0.1829,  0.7641, -0.2324, -0.0158, -1.0129, -1.0456, -0.2127,\n",
       "        -0.8117,  0.2734, -0.0655,  0.1092, -0.1427, -0.9616, -0.1284, -0.0986,\n",
       "         0.4064,  0.3429,  0.7177,  1.3544,  0.4064, -2.2046,  0.2358,  0.3073,\n",
       "        -0.5063, -0.8713,  1.5288,  1.3977,  0.7927,  0.9255,  0.3852, -0.1123,\n",
       "         0.0627,  0.9523,  0.7242, -0.8588,  0.0662,  0.6654, -0.8231,  1.1614,\n",
       "         0.3174,  0.4534, -0.2009, -0.9590,  1.0892, -0.2580,  0.7737, -0.7711,\n",
       "         0.3884,  0.6391,  0.3703, -1.7752, -1.0153, -1.8481,  1.0819, -1.3577,\n",
       "        -0.6685,  1.1388,  1.2461,  0.3922, -1.4029, -1.5430, -1.5551, -1.5277,\n",
       "        -0.3220, -1.5126,  2.2939, -0.1266,  0.0452, -0.6161, -0.8545,  0.3019,\n",
       "         0.8475,  0.8294,  0.2136,  0.4353,  0.0923,  0.0853,  1.2269, -0.5531,\n",
       "        -0.6189,  1.1103, -0.3280, -0.3460,  0.4276, -0.2160, -0.1958,  1.7193,\n",
       "        -0.0215, -0.7255, -0.5694,  1.3145, -0.9824, -0.4160, -0.0514,  0.9167,\n",
       "        -1.8293, -0.9266, -0.6003,  1.5090, -1.2867, -0.6980,  0.7536, -0.0333,\n",
       "        -2.0163, -0.4926, -0.4570,  0.2772,  2.7895,  0.6088,  0.0553, -1.4493,\n",
       "        -0.4547, -0.2258,  0.8610,  0.0506, -1.4946, -0.4906, -0.0329, -0.5969,\n",
       "         0.8323,  1.4479, -1.9910,  0.7846, -2.2206, -1.9705, -1.5550,  0.5184,\n",
       "        -0.3718,  0.0093, -1.5048, -0.1167,  1.0483, -0.2419,  1.3265, -1.3737,\n",
       "         0.2454,  0.7941,  0.0814, -0.0411,  1.0504, -1.9360,  1.4389, -0.4380,\n",
       "        -0.0731,  0.6150,  1.0529,  1.4785,  0.0672,  0.6832, -0.7030,  0.5203,\n",
       "        -0.9042,  0.3164, -0.0551,  0.5971,  0.1381, -0.3568,  1.2614, -0.7884,\n",
       "         0.5845, -0.6098, -0.6564, -1.6290,  2.2772,  0.1015,  1.5129,  1.0614,\n",
       "        -1.4697, -0.1558,  2.1291,  1.6554, -1.6549,  1.2207,  1.0748,  0.1898,\n",
       "         1.8328, -0.7994, -0.3350, -1.2300,  0.4545,  0.4614,  0.6026,  1.1257,\n",
       "         0.2361,  0.7295,  0.7771,  0.9084, -0.5596, -1.0205,  0.2313,  0.5463,\n",
       "         0.1577, -0.6279, -1.5463, -1.2079, -0.5957, -0.5533, -1.1714,  0.3077,\n",
       "         0.2724, -1.0414, -2.6910, -0.9762,  0.0993,  2.2488, -0.2876,  0.5120,\n",
       "         1.0368, -0.2715, -0.7017, -0.2642,  0.0337, -0.7509,  0.8612, -0.1646,\n",
       "        -0.0065,  1.0510, -0.6796, -0.6163,  0.9039,  0.5394, -1.7945,  1.0772,\n",
       "         0.6262, -0.1781,  0.2048, -0.4559,  0.0608, -0.0372,  0.0551, -0.4715,\n",
       "        -0.4920,  0.6711, -0.1375, -0.7598,  0.4275,  0.8635, -0.8600, -0.1564,\n",
       "        -0.1796, -0.3053,  0.1284, -0.1021,  2.1858,  0.2498, -0.2483, -1.0828,\n",
       "        -0.3125,  0.9900, -1.6030,  1.5234, -0.2798, -0.4982, -0.8061, -0.6805,\n",
       "         0.1413,  0.5470,  0.5922, -1.3023, -1.5349, -1.0301, -0.4786,  0.0936,\n",
       "        -0.5935, -0.6207, -0.2687,  0.4775, -0.0359,  0.3061,  0.6655, -0.8623,\n",
       "        -0.1472,  0.0121,  0.4861,  0.2078, -0.9919, -1.1771, -0.6808,  0.2975,\n",
       "         1.6619,  0.0119, -0.3803,  1.5418,  0.8985, -1.2009,  0.2718,  1.0322,\n",
       "         1.1793, -0.4283,  0.4799, -1.9435, -0.8546,  0.0900,  0.4029,  1.3324,\n",
       "         1.0089, -0.0631, -0.1968, -2.1043, -0.4432,  0.9089,  0.4020,  0.3540,\n",
       "         0.2193,  0.1896, -1.3912,  2.3662, -0.2763, -0.9553,  0.8147,  2.1701,\n",
       "        -0.8338,  2.4263,  0.5269, -0.7286,  0.4660, -1.7661,  1.6997,  1.0848,\n",
       "        -0.2087, -0.3600,  0.3438,  1.0889, -1.5877,  0.8307,  0.0384, -0.2063,\n",
       "         0.2543, -0.3852,  0.2807,  0.1546, -0.0349, -0.0269,  1.2500,  2.2376,\n",
       "        -0.3607, -0.9649, -2.3045, -0.0305,  0.0842,  0.2093, -0.3263,  0.6349,\n",
       "        -1.2465,  0.3655, -1.5201,  1.4144, -0.0855, -0.2589, -0.5076,  0.9790,\n",
       "        -1.1441,  0.5882, -0.3791,  0.2190, -0.0165,  0.7767, -0.2968,  0.4621])"
      ]
     },
     "execution_count": 31,
     "metadata": {},
     "output_type": "execute_result"
    }
   ],
   "source": [
    "sents_i[0]"
   ]
  },
  {
   "cell_type": "code",
   "execution_count": 14,
   "metadata": {},
   "outputs": [
    {
     "ename": "TypeError",
     "evalue": "new(): argument 'size' must be tuple of ints, but found element of type Tensor at pos 2",
     "output_type": "error",
     "traceback": [
      "\u001b[0;31m---------------------------------------------------------------------------\u001b[0m",
      "\u001b[0;31mTypeError\u001b[0m                                 Traceback (most recent call last)",
      "\u001b[0;32m<ipython-input-14-4899d6b7c803>\u001b[0m in \u001b[0;36m<module>\u001b[0;34m\u001b[0m\n\u001b[0;32m----> 1\u001b[0;31m \u001b[0mcontent\u001b[0m \u001b[0;34m=\u001b[0m \u001b[0mnn\u001b[0m\u001b[0;34m.\u001b[0m\u001b[0mLinear\u001b[0m\u001b[0;34m(\u001b[0m\u001b[0;36m2\u001b[0m \u001b[0;34m*\u001b[0m \u001b[0mz\u001b[0m\u001b[0;34m,\u001b[0m \u001b[0;36m1\u001b[0m\u001b[0;34m,\u001b[0m \u001b[0mbias\u001b[0m\u001b[0;34m=\u001b[0m\u001b[0;32mFalse\u001b[0m\u001b[0;34m)\u001b[0m\u001b[0;34m\u001b[0m\u001b[0m\n\u001b[0m",
      "\u001b[0;32m/Library/Frameworks/Python.framework/Versions/3.6/lib/python3.6/site-packages/torch/nn/modules/linear.py\u001b[0m in \u001b[0;36m__init__\u001b[0;34m(self, in_features, out_features, bias)\u001b[0m\n\u001b[1;32m     70\u001b[0m         \u001b[0mself\u001b[0m\u001b[0;34m.\u001b[0m\u001b[0min_features\u001b[0m \u001b[0;34m=\u001b[0m \u001b[0min_features\u001b[0m\u001b[0;34m\u001b[0m\u001b[0m\n\u001b[1;32m     71\u001b[0m         \u001b[0mself\u001b[0m\u001b[0;34m.\u001b[0m\u001b[0mout_features\u001b[0m \u001b[0;34m=\u001b[0m \u001b[0mout_features\u001b[0m\u001b[0;34m\u001b[0m\u001b[0m\n\u001b[0;32m---> 72\u001b[0;31m         \u001b[0mself\u001b[0m\u001b[0;34m.\u001b[0m\u001b[0mweight\u001b[0m \u001b[0;34m=\u001b[0m \u001b[0mParameter\u001b[0m\u001b[0;34m(\u001b[0m\u001b[0mtorch\u001b[0m\u001b[0;34m.\u001b[0m\u001b[0mTensor\u001b[0m\u001b[0;34m(\u001b[0m\u001b[0mout_features\u001b[0m\u001b[0;34m,\u001b[0m \u001b[0min_features\u001b[0m\u001b[0;34m)\u001b[0m\u001b[0;34m)\u001b[0m\u001b[0;34m\u001b[0m\u001b[0m\n\u001b[0m\u001b[1;32m     73\u001b[0m         \u001b[0;32mif\u001b[0m \u001b[0mbias\u001b[0m\u001b[0;34m:\u001b[0m\u001b[0;34m\u001b[0m\u001b[0m\n\u001b[1;32m     74\u001b[0m             \u001b[0mself\u001b[0m\u001b[0;34m.\u001b[0m\u001b[0mbias\u001b[0m \u001b[0;34m=\u001b[0m \u001b[0mParameter\u001b[0m\u001b[0;34m(\u001b[0m\u001b[0mtorch\u001b[0m\u001b[0;34m.\u001b[0m\u001b[0mTensor\u001b[0m\u001b[0;34m(\u001b[0m\u001b[0mout_features\u001b[0m\u001b[0;34m)\u001b[0m\u001b[0;34m)\u001b[0m\u001b[0;34m\u001b[0m\u001b[0m\n",
      "\u001b[0;31mTypeError\u001b[0m: new(): argument 'size' must be tuple of ints, but found element of type Tensor at pos 2"
     ]
    }
   ],
   "source": [
    "content = nn.Linear(2 * z, 1, bias=False)"
   ]
  },
  {
   "cell_type": "code",
   "execution_count": 15,
   "metadata": {},
   "outputs": [],
   "source": [
    "content=nn.Linear(2*5,4)"
   ]
  },
  {
   "cell_type": "code",
   "execution_count": 16,
   "metadata": {},
   "outputs": [
    {
     "data": {
      "text/plain": [
       "Linear(in_features=10, out_features=4, bias=True)"
      ]
     },
     "execution_count": 16,
     "metadata": {},
     "output_type": "execute_result"
    }
   ],
   "source": [
    "content"
   ]
  },
  {
   "cell_type": "code",
   "execution_count": 32,
   "metadata": {},
   "outputs": [
    {
     "data": {
      "text/plain": [
       "37"
      ]
     },
     "execution_count": 32,
     "metadata": {},
     "output_type": "execute_result"
    }
   ],
   "source": [
    "len(sents_i[:-2])"
   ]
  },
  {
   "cell_type": "code",
   "execution_count": 23,
   "metadata": {},
   "outputs": [],
   "source": [
    "import networkx as nx"
   ]
  },
  {
   "cell_type": "code",
   "execution_count": 40,
   "metadata": {},
   "outputs": [],
   "source": [
    " def page_rank_rel(sents_i, thres=0.1):\n",
    "        \"\"\"\n",
    "        PageRank value of the sentence based on the sentence map\n",
    "\n",
    "        :param thres: int\n",
    "            Every two sentences are regarded relevant if their similarity is above a threshold.\n",
    "        :return: dict\n",
    "            Dictionary of index nodes with PageRank as value.\n",
    "        \"\"\"\n",
    "        G = nx.Graph()\n",
    "        cosine = nn.CosineSimilarity(dim=0)\n",
    "\n",
    "        # Build a sentence map.\n",
    "        # Every two sentences are regarded relevant if their similarity is above a threshold.\n",
    "        # Every two relevant sentences are connected with a unidirectional link.\n",
    "        for i in range(len(sents_i[:-2])):\n",
    "            for j in range(len(sents_i[i + 1:])):\n",
    "                cosine_similarity_sentence_doc = cosine(sents_i[i], sents_i[j])\n",
    "                #if cosine_similarity_sentence_doc > thres:\n",
    "                G.add_edge(i, j)\n",
    "\n",
    "        pr = nx.pagerank(G)\n",
    "\n",
    "        return pr"
   ]
  },
  {
   "cell_type": "code",
   "execution_count": null,
   "metadata": {},
   "outputs": [],
   "source": []
  },
  {
   "cell_type": "code",
   "execution_count": 45,
   "metadata": {},
   "outputs": [
    {
     "data": {
      "text/plain": [
       "0.05490694621554126"
      ]
     },
     "execution_count": 45,
     "metadata": {},
     "output_type": "execute_result"
    }
   ],
   "source": [
    "page_rank_rel(sents_i).get(0,0)"
   ]
  },
  {
   "cell_type": "code",
   "execution_count": 50,
   "metadata": {},
   "outputs": [
    {
     "ename": "TypeError",
     "evalue": "cat(): argument 'tensors' (position 1) must be tuple of Tensors, not float",
     "output_type": "error",
     "traceback": [
      "\u001b[0;31m---------------------------------------------------------------------------\u001b[0m",
      "\u001b[0;31mTypeError\u001b[0m                                 Traceback (most recent call last)",
      "\u001b[0;32m<ipython-input-50-d004abcd0016>\u001b[0m in \u001b[0;36m<module>\u001b[0;34m\u001b[0m\n\u001b[0;32m----> 1\u001b[0;31m \u001b[0mresult\u001b[0m \u001b[0;34m=\u001b[0m \u001b[0mtorch\u001b[0m\u001b[0;34m.\u001b[0m\u001b[0mcat\u001b[0m\u001b[0;34m(\u001b[0m\u001b[0mpage_rank_rel\u001b[0m\u001b[0;34m(\u001b[0m\u001b[0msents_i\u001b[0m\u001b[0;34m)\u001b[0m\u001b[0;34m.\u001b[0m\u001b[0mget\u001b[0m\u001b[0;34m(\u001b[0m\u001b[0;36m0\u001b[0m\u001b[0;34m,\u001b[0m\u001b[0;36m0\u001b[0m\u001b[0;34m)\u001b[0m\u001b[0;34m,\u001b[0m \u001b[0mdim\u001b[0m\u001b[0;34m=\u001b[0m\u001b[0;36m0\u001b[0m\u001b[0;34m)\u001b[0m\u001b[0;34m\u001b[0m\u001b[0m\n\u001b[0m",
      "\u001b[0;31mTypeError\u001b[0m: cat(): argument 'tensors' (position 1) must be tuple of Tensors, not float"
     ]
    }
   ],
   "source": [
    "result = torch.cat(page_rank_rel(sents_i).get(0,0), dim=0)"
   ]
  },
  {
   "cell_type": "code",
   "execution_count": 51,
   "metadata": {},
   "outputs": [],
   "source": [
    "input = torch.Tensor(2, 4, 3)"
   ]
  },
  {
   "cell_type": "code",
   "execution_count": 55,
   "metadata": {},
   "outputs": [
    {
     "ename": "NameError",
     "evalue": "name 'new_stuff' is not defined",
     "output_type": "error",
     "traceback": [
      "\u001b[0;31m---------------------------------------------------------------------------\u001b[0m",
      "\u001b[0;31mNameError\u001b[0m                                 Traceback (most recent call last)",
      "\u001b[0;32m<ipython-input-55-1178a86e50a0>\u001b[0m in \u001b[0;36m<module>\u001b[0;34m\u001b[0m\n\u001b[1;32m      1\u001b[0m \u001b[0mvar\u001b[0m \u001b[0;34m=\u001b[0m \u001b[0;34m[\u001b[0m\u001b[0;34m]\u001b[0m\u001b[0;34m\u001b[0m\u001b[0m\n\u001b[1;32m      2\u001b[0m \u001b[0;32mfor\u001b[0m \u001b[0mI\u001b[0m \u001b[0;32min\u001b[0m \u001b[0mrange\u001b[0m\u001b[0;34m(\u001b[0m\u001b[0;36m0\u001b[0m\u001b[0;34m,\u001b[0m \u001b[0;36m5\u001b[0m\u001b[0;34m)\u001b[0m\u001b[0;34m:\u001b[0m\u001b[0;34m\u001b[0m\u001b[0m\n\u001b[0;32m----> 3\u001b[0;31m     \u001b[0mvar\u001b[0m\u001b[0;34m.\u001b[0m\u001b[0mappend\u001b[0m\u001b[0;34m(\u001b[0m\u001b[0mnew_stuff\u001b[0m\u001b[0;34m.\u001b[0m\u001b[0munsqueeze\u001b[0m\u001b[0;34m(\u001b[0m\u001b[0;36m0\u001b[0m\u001b[0;34m)\u001b[0m\u001b[0;34m)\u001b[0m\u001b[0;34m\u001b[0m\u001b[0m\n\u001b[0m\u001b[1;32m      4\u001b[0m \u001b[0mvar_tensor\u001b[0m \u001b[0;34m=\u001b[0m \u001b[0mtorch\u001b[0m\u001b[0;34m.\u001b[0m\u001b[0mcat\u001b[0m\u001b[0;34m(\u001b[0m\u001b[0mvar\u001b[0m\u001b[0;34m)\u001b[0m\u001b[0;34m\u001b[0m\u001b[0m\n",
      "\u001b[0;31mNameError\u001b[0m: name 'new_stuff' is not defined"
     ]
    }
   ],
   "source": [
    "var = [] \n",
    "for I in range(0, 5):\n",
    "    var.append(new_stuff.unsqueeze(0))\n",
    "var_tensor = torch.cat(var)"
   ]
  },
  {
   "cell_type": "code",
   "execution_count": 67,
   "metadata": {},
   "outputs": [],
   "source": [
    "py_list = [page_rank_rel(sents_i).get(0,0)]\n",
    "pt_tensor_from_list = torch.FloatTensor(py_list)"
   ]
  },
  {
   "cell_type": "code",
   "execution_count": 68,
   "metadata": {},
   "outputs": [
    {
     "data": {
      "text/plain": [
       "tensor([[0.0549]])"
      ]
     },
     "execution_count": 68,
     "metadata": {},
     "output_type": "execute_result"
    }
   ],
   "source": [
    "pt_tensor_from_list.view(1,-1)"
   ]
  },
  {
   "cell_type": "code",
   "execution_count": null,
   "metadata": {},
   "outputs": [],
   "source": []
  },
  {
   "cell_type": "code",
   "execution_count": null,
   "metadata": {},
   "outputs": [],
   "source": []
  }
 ],
 "metadata": {
  "kernelspec": {
   "display_name": "Python 3",
   "language": "python",
   "name": "python3"
  },
  "language_info": {
   "codemirror_mode": {
    "name": "ipython",
    "version": 3
   },
   "file_extension": ".py",
   "mimetype": "text/x-python",
   "name": "python",
   "nbconvert_exporter": "python",
   "pygments_lexer": "ipython3",
   "version": "3.6.6"
  }
 },
 "nbformat": 4,
 "nbformat_minor": 2
}
